{
 "cells": [
  {
   "cell_type": "code",
   "execution_count": 89,
   "metadata": {},
   "outputs": [],
   "source": [
    "import pandas as pd\n",
    "from matplotlib import pyplot as plt\n",
    "import seaborn as sns\n",
    "import datetime\n",
    "import numpy as np\n",
    "\n",
    "import os"
   ]
  },
  {
   "cell_type": "code",
   "execution_count": 90,
   "metadata": {},
   "outputs": [],
   "source": [
    "def parse_trends_timestamp(timestamp):\n",
    "    datetime_str = timestamp.split(' ')\n",
    "    return datetime.datetime.fromisoformat(datetime_str[0].split('/')[2]+'-'+datetime_str[0].split('/')[0]+'-'+datetime_str[0].split('/')[1]+ ' ' + datetime_str[1])"
   ]
  },
  {
   "cell_type": "code",
   "execution_count": 91,
   "metadata": {},
   "outputs": [],
   "source": [
    "def parse_feedback_timestamp(timestamp):\n",
    "    date_str = timestamp.split('T')[0]\n",
    "    time_str = timestamp.split('T')[1]\n",
    "\n",
    "    return datetime.datetime.fromisoformat(date_str + ' ' + time_str[:5])"
   ]
  },
  {
   "cell_type": "markdown",
   "metadata": {},
   "source": [
    "### Loading Feedback data\n"
   ]
  },
  {
   "cell_type": "code",
   "execution_count": 92,
   "metadata": {},
   "outputs": [],
   "source": [
    "feedback_room_df = pd.read_csv('../data/abschluss-daten/feedback_room.csv')\n",
    "device_df = pd.read_csv('../data/abschluss-daten/device.csv')\n",
    "participant_df = pd.read_csv('../data/abschluss-daten/participant.csv')"
   ]
  },
  {
   "cell_type": "code",
   "execution_count": 93,
   "metadata": {},
   "outputs": [],
   "source": [
    "\n",
    "for column_name in device_df.columns:\n",
    "    if 'timestamp' in column_name or 'At' in column_name:\n",
    "        device_df[column_name] = device_df[column_name].dropna().apply(parse_feedback_timestamp)\n",
    "\n",
    "for column_name in participant_df.columns:\n",
    "    if 'timestamp' in column_name or 'At' in column_name:\n",
    "        participant_df[column_name] = participant_df[column_name].dropna().apply(parse_feedback_timestamp)\n",
    "\n",
    "for column_name in feedback_room_df.columns:\n",
    "    if 'timestamp' in column_name or 'At' in column_name:\n",
    "        feedback_room_df[column_name] = feedback_room_df[column_name].dropna().apply(datetime.datetime.fromisoformat)\n"
   ]
  },
  {
   "cell_type": "markdown",
   "metadata": {},
   "source": [
    "### Loading Temperature & Air quality data\n",
    "\n",
    "Loading data is done as a batch, a dataframe variable is created for each file with its name in the form rx_xx_df according to the file read."
   ]
  },
  {
   "cell_type": "code",
   "execution_count": 94,
   "metadata": {},
   "outputs": [],
   "source": [
    "dir_list = os.listdir('../data/Trends Smart City/0EG') + os.listdir('../data/Trends Smart City/1OG') + os.listdir('../data/Trends Smart City/2OG') + os.listdir('../data/Trends Smart City/3OG')"
   ]
  },
  {
   "cell_type": "code",
   "execution_count": 95,
   "metadata": {},
   "outputs": [],
   "source": [
    "df_names = []\n",
    "\n",
    "for filename in dir_list:\n",
    "    split_name = filename.lower().split(' ')\n",
    "    further_split_name = split_name[0].split('-')\n",
    "    df_name = further_split_name[1]+'_'+further_split_name[2]\n",
    "\n",
    "    if 'Lufttemp' in filename:\n",
    "        df_name += '_temp_df'\n",
    "\n",
    "    else:\n",
    "        df_name += '_qual_df'\n",
    "\n",
    "    #df_name = '_'.join(further_split_name[1:])+'_df'\n",
    "    df_names.append(df_name)\n",
    "\n",
    "   \n",
    "\n",
    "    if further_split_name[1] == 'r0':\n",
    "        globals()[df_name] = pd.read_csv('../data/Trends Smart City/0EG/'+filename,sep=';',header=0,usecols = [i for i in range(3)],names=['timestamp','value','reduced'])\n",
    "\n",
    "    elif further_split_name[1] == 'r1':\n",
    "        globals()[df_name] = pd.read_csv('../data/Trends Smart City/1OG/'+filename,sep=';',header=0,usecols = [i for i in range(3)],names=['timestamp','value','reduced'])\n",
    "\n",
    "    elif further_split_name[1] == 'r2':\n",
    "        globals()[df_name] = pd.read_csv('../data/Trends Smart City/2OG/'+filename,sep=';',header=0,usecols = [i for i in range(3)],names=['timestamp','value','reduced'])\n",
    "\n",
    "    elif further_split_name[1] == 'r3':\n",
    "        globals()[df_name] = pd.read_csv('../data/Trends Smart City/3OG/'+filename,sep=';',header=0,usecols = [i for i in range(3)],names=['timestamp','value','reduced'])\n",
    "\n",
    "    globals()[df_name]['timestamp'] = globals()[df_name]['timestamp'].apply(parse_trends_timestamp)"
   ]
  },
  {
   "cell_type": "markdown",
   "metadata": {},
   "source": [
    "Changing the room name format to match that used in the trends dataset"
   ]
  },
  {
   "cell_type": "code",
   "execution_count": 96,
   "metadata": {},
   "outputs": [],
   "source": [
    "def parse_roomName(roomName):\n",
    "    if 'VS' not in roomName:\n",
    "        return\n",
    "\n",
    "    roomName = roomName[3:]\n",
    "    roomName = roomName.split('.')\n",
    "    return 'r'+'_'.join(roomName)\n",
    "\n"
   ]
  },
  {
   "cell_type": "code",
   "execution_count": 97,
   "metadata": {},
   "outputs": [],
   "source": [
    "feedback_room_df['roomName'] = feedback_room_df['roomName'].apply(parse_roomName)"
   ]
  },
  {
   "cell_type": "markdown",
   "metadata": {},
   "source": [
    "### Splitting feedback data"
   ]
  },
  {
   "cell_type": "code",
   "execution_count": 98,
   "metadata": {},
   "outputs": [],
   "source": [
    "daily_airDraft_df = feedback_room_df[['daily_airDraft_timestamp','daily_airDraft_value','roomName']].dropna()\n",
    "daily_ambientSounds_df = feedback_room_df[['daily_ambientSounds_timestamp','daily_ambientSounds_value','roomName']].dropna()\n",
    "daily_artificialLight_df = feedback_room_df[['daily_artificialLight_timestamp','daily_artificialLight_value','roomName']].dropna()\n",
    "daily_dayLight_df = feedback_room_df[['daily_dayLight_timestamp','daily_dayLight_value','roomName']].dropna()\n",
    "daily_smell_df = feedback_room_df[['daily_smell_timestamp','daily_smell_value','roomName']].dropna()\n",
    "daily_studentsAdherence_df = feedback_room_df[['daily_studentsAdherence_timestamp', 'daily_studentsAdherence_value','roomName']].dropna()\n",
    "daily_studentsFocused_df = feedback_room_df[['daily_studentsFocused_timestamp', 'daily_studentsFocused_value','roomName']].dropna()\n",
    "daily_studentsIrritated_df = feedback_room_df[['daily_studentsIrritated_timestamp', 'daily_studentsIrritated_value','roomName']].dropna()\n",
    "daily_studentsMotivated_df =feedback_room_df[['daily_studentsMotivated_timestamp', 'daily_studentsMotivated_value','roomName']].dropna()\n",
    "\n",
    "hourly_airQuality_df = feedback_room_df[['hourly_airQuality_timestamp', 'hourly_airQuality_value','roomName']].dropna()\n",
    "hourly_humidity_df = feedback_room_df[['hourly_humidity_timestamp', 'hourly_humidity_value','roomName']].dropna()\n",
    "hourly_indoorClimate_df = feedback_room_df[['hourly_indoorClimate_timestamp', 'hourly_indoorClimate_value','roomName']].dropna()\n",
    "hourly_temperature_df = feedback_room_df[['hourly_temperature_timestamp', 'hourly_temperature_value','roomName']].dropna()"
   ]
  },
  {
   "cell_type": "markdown",
   "metadata": {},
   "source": [
    "## Plotting"
   ]
  },
  {
   "cell_type": "code",
   "execution_count": 102,
   "metadata": {},
   "outputs": [],
   "source": [
    "x = daily_airDraft_df['daily_airDraft_value']"
   ]
  },
  {
   "cell_type": "code",
   "execution_count": null,
   "metadata": {},
   "outputs": [],
   "source": [
    "#still need to choses appropriate timestamps to pllot with for the below"
   ]
  },
  {
   "cell_type": "code",
   "execution_count": 105,
   "metadata": {},
   "outputs": [
    {
     "data": {
      "text/html": [
       "<div>\n",
       "<style scoped>\n",
       "    .dataframe tbody tr th:only-of-type {\n",
       "        vertical-align: middle;\n",
       "    }\n",
       "\n",
       "    .dataframe tbody tr th {\n",
       "        vertical-align: top;\n",
       "    }\n",
       "\n",
       "    .dataframe thead th {\n",
       "        text-align: right;\n",
       "    }\n",
       "</style>\n",
       "<table border=\"1\" class=\"dataframe\">\n",
       "  <thead>\n",
       "    <tr style=\"text-align: right;\">\n",
       "      <th></th>\n",
       "      <th>timestamp</th>\n",
       "      <th>value</th>\n",
       "      <th>reduced</th>\n",
       "    </tr>\n",
       "  </thead>\n",
       "  <tbody>\n",
       "    <tr>\n",
       "      <th>0</th>\n",
       "      <td>2021-11-17 15:43:24</td>\n",
       "      <td>23.619999</td>\n",
       "      <td>Reduced</td>\n",
       "    </tr>\n",
       "    <tr>\n",
       "      <th>1</th>\n",
       "      <td>2021-11-17 22:28:24</td>\n",
       "      <td>23.199999</td>\n",
       "      <td>Reduced</td>\n",
       "    </tr>\n",
       "    <tr>\n",
       "      <th>2</th>\n",
       "      <td>2021-11-18 05:28:24</td>\n",
       "      <td>22.779999</td>\n",
       "      <td>Reduced</td>\n",
       "    </tr>\n",
       "    <tr>\n",
       "      <th>3</th>\n",
       "      <td>2021-11-18 07:28:24</td>\n",
       "      <td>23.299999</td>\n",
       "      <td>Reduced</td>\n",
       "    </tr>\n",
       "    <tr>\n",
       "      <th>4</th>\n",
       "      <td>2021-11-18 14:58:36</td>\n",
       "      <td>23.559999</td>\n",
       "      <td>Reduced</td>\n",
       "    </tr>\n",
       "  </tbody>\n",
       "</table>\n",
       "</div>"
      ],
      "text/plain": [
       "            timestamp      value  reduced\n",
       "0 2021-11-17 15:43:24  23.619999  Reduced\n",
       "1 2021-11-17 22:28:24  23.199999  Reduced\n",
       "2 2021-11-18 05:28:24  22.779999  Reduced\n",
       "3 2021-11-18 07:28:24  23.299999  Reduced\n",
       "4 2021-11-18 14:58:36  23.559999  Reduced"
      ]
     },
     "execution_count": 105,
     "metadata": {},
     "output_type": "execute_result"
    }
   ],
   "source": [
    "globals()[daily_airDraft_df['roomName'].to_list()[1]+'_temp_df'].head()"
   ]
  },
  {
   "cell_type": "code",
   "execution_count": 103,
   "metadata": {},
   "outputs": [],
   "source": [
    "y = globals()[daily_airDraft_df['roomName'].to_list()[1]+'_temp_df']['value']"
   ]
  },
  {
   "cell_type": "code",
   "execution_count": null,
   "metadata": {},
   "outputs": [],
   "source": []
  }
 ],
 "metadata": {
  "kernelspec": {
   "display_name": "Python 3.8.10 ('feedback_env': venv)",
   "language": "python",
   "name": "python3"
  },
  "language_info": {
   "codemirror_mode": {
    "name": "ipython",
    "version": 3
   },
   "file_extension": ".py",
   "mimetype": "text/x-python",
   "name": "python",
   "nbconvert_exporter": "python",
   "pygments_lexer": "ipython3",
   "version": "3.8.10"
  },
  "orig_nbformat": 4,
  "vscode": {
   "interpreter": {
    "hash": "463cb1ca5b70f2b4794c32c6d106e9df611106de8196d3c90f7d0ea7948598af"
   }
  }
 },
 "nbformat": 4,
 "nbformat_minor": 2
}
