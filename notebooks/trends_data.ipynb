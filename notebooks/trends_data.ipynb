{
 "cells": [
  {
   "cell_type": "code",
   "execution_count": 29,
   "metadata": {},
   "outputs": [],
   "source": [
    "import pandas as pd\n",
    "from matplotlib import pyplot as plt\n",
    "import seaborn as sns\n",
    "import datetime\n",
    "import numpy as np\n",
    "\n",
    "import os"
   ]
  },
  {
   "cell_type": "code",
   "execution_count": 30,
   "metadata": {},
   "outputs": [],
   "source": [
    "def parse_trends_timestamp(timestamp):\n",
    "    datetime_str = timestamp.split(' ')\n",
    "    return datetime.datetime.fromisoformat(datetime_str[0].split('/')[2]+'-'+datetime_str[0].split('/')[0]+'-'+datetime_str[0].split('/')[1]+ ' ' + datetime_str[1])"
   ]
  },
  {
   "cell_type": "code",
   "execution_count": 31,
   "metadata": {},
   "outputs": [],
   "source": [
    "def parse_feedback_timestamp(timestamp):\n",
    "    date_str = timestamp.split('T')[0]\n",
    "    time_str = timestamp.split('T')[1]\n",
    "\n",
    "    return datetime.datetime.fromisoformat(date_str + ' ' + time_str[:5])"
   ]
  },
  {
   "cell_type": "markdown",
   "metadata": {},
   "source": [
    "### Loading Feedback data\n"
   ]
  },
  {
   "cell_type": "code",
   "execution_count": 32,
   "metadata": {},
   "outputs": [],
   "source": [
    "feedback_df = pd.read_csv('../data/abschluss-daten/feedback.csv')\n",
    "device_df = pd.read_csv('../data/abschluss-daten/device.csv')\n",
    "participant_df = pd.read_csv('../data/abschluss-daten/participant.csv')"
   ]
  },
  {
   "cell_type": "code",
   "execution_count": 33,
   "metadata": {},
   "outputs": [],
   "source": [
    "for column_name in feedback_df.columns:\n",
    "    if 'timestamp' in column_name or 'At' in column_name:\n",
    "        feedback_df[column_name] = feedback_df[column_name].dropna().apply(parse_feedback_timestamp)\n",
    "\n",
    "for column_name in device_df.columns:\n",
    "    if 'timestamp' in column_name or 'At' in column_name:\n",
    "        device_df[column_name] = device_df[column_name].dropna().apply(parse_feedback_timestamp)\n",
    "\n",
    "for column_name in participant_df.columns:\n",
    "    if 'timestamp' in column_name or 'At' in column_name:\n",
    "        participant_df[column_name] = participant_df[column_name].dropna().apply(parse_feedback_timestamp)\n"
   ]
  },
  {
   "cell_type": "markdown",
   "metadata": {},
   "source": [
    "### Loading Temperature & Air quality data\n",
    "\n",
    "Loading data is done as a batch, appending each file read to a list"
   ]
  },
  {
   "cell_type": "code",
   "execution_count": 34,
   "metadata": {},
   "outputs": [],
   "source": [
    "#0EG\n",
    "dir_list = os.listdir('../data/Trends Smart City/0EG')\n",
    "_0_eg_temp_dfs = [] #Store\n",
    "_0_eg_qual_dfs = []\n",
    "for filename in dir_list:\n",
    "    if 'Lufttemp' in filename:\n",
    "        _0_eg_temp_dfs.append(pd.read_csv('../data/Trends Smart City/0EG/'+filename,sep=';',header=0,usecols = [i for i in range(3)],names=['timestamp','temperature','reduced']))\n",
    "        _0_eg_temp_dfs[-1]['timestamp'] = _0_eg_temp_dfs[-1]['timestamp'].apply(parse_trends_timestamp)\n",
    "    else:\n",
    "        _0_eg_qual_dfs.append(pd.read_csv('../data/Trends Smart City/0EG/'+filename,sep=';',header=0,usecols = [i for i in range(3)],names=['timestamp','quality','reduced']))\n",
    "        _0_eg_qual_dfs[-1]['timestamp'] = _0_eg_qual_dfs[-1]['timestamp'].apply(parse_trends_timestamp)\n",
    "\n",
    "#1OG\n",
    "dir_list = os.listdir('../data/Trends Smart City/1OG')\n",
    "_1_og_temp_dfs = []\n",
    "_1_og_qual_dfs = []\n",
    "for filename in dir_list:\n",
    "    if 'Lufttemp' in filename:\n",
    "        _1_og_temp_dfs.append(pd.read_csv('../data/Trends Smart City/1OG/'+filename,sep=';',header=0,usecols = [i for i in range(3)],names=['timestamp','temperature','reduced']))\n",
    "        _1_og_temp_dfs[-1]['timestamp'] = _1_og_temp_dfs[-1]['timestamp'].apply(parse_trends_timestamp)\n",
    "    else:\n",
    "        _1_og_qual_dfs.append(pd.read_csv('../data/Trends Smart City/1OG/'+filename,sep=';',header=0,usecols = [i for i in range(3)],names=['timestamp','quality','reduced']))\n",
    "        _1_og_qual_dfs[-1]['timestamp'] = _1_og_qual_dfs[-1]['timestamp'].apply(parse_trends_timestamp)\n",
    "\n",
    "\n",
    "\n",
    "#2OG\n",
    "dir_list = os.listdir('../data/Trends Smart City/2OG')\n",
    "_2_og_temp_dfs = []\n",
    "_2_og_qual_dfs = []\n",
    "for filename in dir_list:\n",
    "    if 'Lufttemp' in filename:\n",
    "        _2_og_temp_dfs.append(pd.read_csv('../data/Trends Smart City/2OG/'+filename,sep=';',header=0,usecols = [i for i in range(3)],names=['timestamp','temperature','reduced']))\n",
    "        _2_og_temp_dfs[-1]['timestamp'] = _2_og_temp_dfs[-1]['timestamp'].apply(parse_trends_timestamp)\n",
    "    else:\n",
    "        _2_og_qual_dfs.append(pd.read_csv('../data/Trends Smart City/2OG/'+filename,sep=';',header=0,usecols = [i for i in range(3)],names=['timestamp','quality','reduced']))\n",
    "        _2_og_qual_dfs[-1]['timestamp'] = _2_og_qual_dfs[-1]['timestamp'].apply(parse_trends_timestamp)\n",
    "\n",
    "\n",
    "#3OG\n",
    "dir_list = os.listdir('../data/Trends Smart City/3OG')\n",
    "_3_og_temp_dfs = []\n",
    "_3_og_qual_dfs = []\n",
    "for filename in dir_list:\n",
    "    if 'Lufttemp' in filename:\n",
    "        _3_og_temp_dfs.append(pd.read_csv('../data/Trends Smart City/3OG/'+filename,sep=';',header=0,usecols = [i for i in range(3)],names=['timestamp','temperature','reduced']))\n",
    "        _3_og_temp_dfs[-1]['timestamp'] = _3_og_temp_dfs[-1]['timestamp'].apply(parse_trends_timestamp)\n",
    "    else:\n",
    "        _3_og_qual_dfs.append(pd.read_csv('../data/Trends Smart City/3OG/'+filename,sep=';',header=0,usecols = [i for i in range(3)],names=['timestamp','quality','reduced']))\n",
    "        _3_og_qual_dfs[-1]['timestamp'] = _3_og_qual_dfs[-1]['timestamp'].apply(parse_trends_timestamp)\n",
    "\n"
   ]
  },
  {
   "cell_type": "markdown",
   "metadata": {},
   "source": [
    "Merging participant and device datasets to link each participant to a room "
   ]
  },
  {
   "cell_type": "code",
   "execution_count": 39,
   "metadata": {},
   "outputs": [],
   "source": [
    "participant_df['participant_id'] = participant_df['_id']\n",
    "participant_df = participant_df.drop(columns=['_id'])\n",
    "\n",
    "device_df['device_id'] = device_df['_id']\n",
    "device_df = device_df.drop(columns=['_id'])\n"
   ]
  },
  {
   "cell_type": "code",
   "execution_count": 41,
   "metadata": {},
   "outputs": [],
   "source": [
    "participant_device_df = pd.merge(device_df,participant_df,how='left',left_on='device_id',right_on='gdpr_device').drop(['gdpr_device'], axis=1)"
   ]
  },
  {
   "cell_type": "code",
   "execution_count": 49,
   "metadata": {},
   "outputs": [],
   "source": [
    "participant_device_df = participant_device_df[['device_id','participant_id', 'roomName']].dropna()"
   ]
  },
  {
   "cell_type": "markdown",
   "metadata": {},
   "source": [
    "Merging feedback and room based on participant"
   ]
  },
  {
   "cell_type": "code",
   "execution_count": 52,
   "metadata": {},
   "outputs": [],
   "source": [
    "feedback_room_df = pd.merge(feedback_df,participant_device_df,how='left',left_on='participant',right_on='participant_id').drop(['participant_id'], axis=1)"
   ]
  },
  {
   "cell_type": "code",
   "execution_count": 55,
   "metadata": {},
   "outputs": [
    {
     "data": {
      "text/html": [
       "<div>\n",
       "<style scoped>\n",
       "    .dataframe tbody tr th:only-of-type {\n",
       "        vertical-align: middle;\n",
       "    }\n",
       "\n",
       "    .dataframe tbody tr th {\n",
       "        vertical-align: top;\n",
       "    }\n",
       "\n",
       "    .dataframe thead th {\n",
       "        text-align: right;\n",
       "    }\n",
       "</style>\n",
       "<table border=\"1\" class=\"dataframe\">\n",
       "  <thead>\n",
       "    <tr style=\"text-align: right;\">\n",
       "      <th></th>\n",
       "      <th>hourly_airQuality_timestamp</th>\n",
       "      <th>hourly_airQuality_value</th>\n",
       "      <th>device_id</th>\n",
       "      <th>participant</th>\n",
       "      <th>roomName</th>\n",
       "    </tr>\n",
       "  </thead>\n",
       "  <tbody>\n",
       "    <tr>\n",
       "      <th>0</th>\n",
       "      <td>2022-09-07 18:11:00</td>\n",
       "      <td>1.0</td>\n",
       "      <td>6318de412c5704a9e531d59d</td>\n",
       "      <td>6318dea612223a195314b5ee</td>\n",
       "      <td>Stefan</td>\n",
       "    </tr>\n",
       "    <tr>\n",
       "      <th>1</th>\n",
       "      <td>2022-09-08 11:17:00</td>\n",
       "      <td>1.0</td>\n",
       "      <td>63186f95a505031fc7fc2550</td>\n",
       "      <td>6318dea512223a195314b5eb</td>\n",
       "      <td>VS 1.06</td>\n",
       "    </tr>\n",
       "    <tr>\n",
       "      <th>4</th>\n",
       "      <td>2022-09-08 12:08:00</td>\n",
       "      <td>3.0</td>\n",
       "      <td>63186baaa505031fc7fc253d</td>\n",
       "      <td>6318dea612223a195314b603</td>\n",
       "      <td>VS 0.24</td>\n",
       "    </tr>\n",
       "    <tr>\n",
       "      <th>5</th>\n",
       "      <td>2022-09-09 07:14:00</td>\n",
       "      <td>5.0</td>\n",
       "      <td>63186f95a505031fc7fc2550</td>\n",
       "      <td>6318dea512223a195314b5eb</td>\n",
       "      <td>VS 1.06</td>\n",
       "    </tr>\n",
       "    <tr>\n",
       "      <th>6</th>\n",
       "      <td>2022-09-14 06:58:00</td>\n",
       "      <td>1.0</td>\n",
       "      <td>63186922a505031fc7fc2532</td>\n",
       "      <td>6318dea612223a195314b5f0</td>\n",
       "      <td>VS 2.04</td>\n",
       "    </tr>\n",
       "    <tr>\n",
       "      <th>...</th>\n",
       "      <td>...</td>\n",
       "      <td>...</td>\n",
       "      <td>...</td>\n",
       "      <td>...</td>\n",
       "      <td>...</td>\n",
       "    </tr>\n",
       "    <tr>\n",
       "      <th>746</th>\n",
       "      <td>2022-10-24 12:05:00</td>\n",
       "      <td>3.0</td>\n",
       "      <td>63186922a505031fc7fc2532</td>\n",
       "      <td>6318dea712223a195314b60c</td>\n",
       "      <td>VS 2.04</td>\n",
       "    </tr>\n",
       "    <tr>\n",
       "      <th>747</th>\n",
       "      <td>2022-10-25 06:29:00</td>\n",
       "      <td>2.0</td>\n",
       "      <td>63186922a505031fc7fc2532</td>\n",
       "      <td>6318dea712223a195314b60c</td>\n",
       "      <td>VS 2.04</td>\n",
       "    </tr>\n",
       "    <tr>\n",
       "      <th>748</th>\n",
       "      <td>2022-10-25 11:10:00</td>\n",
       "      <td>2.0</td>\n",
       "      <td>63186922a505031fc7fc2532</td>\n",
       "      <td>6318dea712223a195314b60c</td>\n",
       "      <td>VS 2.04</td>\n",
       "    </tr>\n",
       "    <tr>\n",
       "      <th>749</th>\n",
       "      <td>2022-10-25 11:10:00</td>\n",
       "      <td>2.0</td>\n",
       "      <td>63186922a505031fc7fc2532</td>\n",
       "      <td>6318dea612223a195314b5f0</td>\n",
       "      <td>VS 2.04</td>\n",
       "    </tr>\n",
       "    <tr>\n",
       "      <th>750</th>\n",
       "      <td>2022-10-24 06:55:00</td>\n",
       "      <td>2.0</td>\n",
       "      <td>631867c0a505031fc7fc252c</td>\n",
       "      <td>6318dea712223a195314b611</td>\n",
       "      <td>VS3.01-3.04</td>\n",
       "    </tr>\n",
       "  </tbody>\n",
       "</table>\n",
       "<p>535 rows × 5 columns</p>\n",
       "</div>"
      ],
      "text/plain": [
       "    hourly_airQuality_timestamp  hourly_airQuality_value  \\\n",
       "0           2022-09-07 18:11:00                      1.0   \n",
       "1           2022-09-08 11:17:00                      1.0   \n",
       "4           2022-09-08 12:08:00                      3.0   \n",
       "5           2022-09-09 07:14:00                      5.0   \n",
       "6           2022-09-14 06:58:00                      1.0   \n",
       "..                          ...                      ...   \n",
       "746         2022-10-24 12:05:00                      3.0   \n",
       "747         2022-10-25 06:29:00                      2.0   \n",
       "748         2022-10-25 11:10:00                      2.0   \n",
       "749         2022-10-25 11:10:00                      2.0   \n",
       "750         2022-10-24 06:55:00                      2.0   \n",
       "\n",
       "                    device_id               participant     roomName  \n",
       "0    6318de412c5704a9e531d59d  6318dea612223a195314b5ee       Stefan  \n",
       "1    63186f95a505031fc7fc2550  6318dea512223a195314b5eb      VS 1.06  \n",
       "4    63186baaa505031fc7fc253d  6318dea612223a195314b603      VS 0.24  \n",
       "5    63186f95a505031fc7fc2550  6318dea512223a195314b5eb      VS 1.06  \n",
       "6    63186922a505031fc7fc2532  6318dea612223a195314b5f0      VS 2.04  \n",
       "..                        ...                       ...          ...  \n",
       "746  63186922a505031fc7fc2532  6318dea712223a195314b60c      VS 2.04  \n",
       "747  63186922a505031fc7fc2532  6318dea712223a195314b60c      VS 2.04  \n",
       "748  63186922a505031fc7fc2532  6318dea712223a195314b60c      VS 2.04  \n",
       "749  63186922a505031fc7fc2532  6318dea612223a195314b5f0      VS 2.04  \n",
       "750  631867c0a505031fc7fc252c  6318dea712223a195314b611  VS3.01-3.04  \n",
       "\n",
       "[535 rows x 5 columns]"
      ]
     },
     "execution_count": 55,
     "metadata": {},
     "output_type": "execute_result"
    }
   ],
   "source": [
    "feedback_room_df[['hourly_airQuality_timestamp', 'hourly_airQuality_value','device_id','participant', 'roomName']].dropna()"
   ]
  },
  {
   "cell_type": "markdown",
   "metadata": {},
   "source": [
    "### Splitting feedback data"
   ]
  },
  {
   "cell_type": "code",
   "execution_count": null,
   "metadata": {},
   "outputs": [],
   "source": [
    "daily_airDraft_df = feedback_df[['daily_airDraft_timestamp','daily_airDraft_value']].dropna()\n",
    "daily_ambientSounds_df = feedback_df[['daily_ambientSounds_timestamp','daily_ambientSounds_value']].dropna()\n",
    "daily_artificialLight_df = feedback_df[['daily_artificialLight_timestamp','daily_artificialLight_value']].dropna()\n",
    "daily_dayLight_df = feedback_df[['daily_dayLight_timestamp','daily_dayLight_value']].dropna()\n",
    "daily_smell_df = feedback_df[['daily_smell_timestamp','daily_smell_value']].dropna()\n",
    "daily_studentsAdherence_df = feedback_df[['daily_studentsAdherence_timestamp', 'daily_studentsAdherence_value']].dropna()\n",
    "daily_studentsFocused_df = feedback_df[['daily_studentsFocused_timestamp', 'daily_studentsFocused_value','participant']].dropna()\n",
    "daily_studentsIrritated_df = feedback_df[['daily_studentsIrritated_timestamp', 'daily_studentsIrritated_value']].dropna()\n",
    "daily_studentsMotivated_df =feedback_df[['daily_studentsMotivated_timestamp', 'daily_studentsMotivated_value']].dropna()\n",
    "\n",
    "hourly_airQuality_df = feedback_df[['hourly_airQuality_timestamp', 'hourly_airQuality_value']].dropna()\n",
    "hourly_humidity_df = feedback_df[['hourly_humidity_timestamp', 'hourly_humidity_value']].dropna()\n",
    "hourly_indoorClimate_df = feedback_df[['hourly_indoorClimate_timestamp', 'hourly_indoorClimate_value']].dropna()\n",
    "hourly_temperature_df = feedback_df[['hourly_temperature_timestamp', 'hourly_temperature_value','participant']].dropna()"
   ]
  },
  {
   "cell_type": "code",
   "execution_count": null,
   "metadata": {},
   "outputs": [],
   "source": [
    "\n",
    "# daily_studentsFocused_df['timestamp'] = daily_studentsFocused_df['daily_studentsFocused_timestamp']\n",
    "\n",
    "# #Setting a joint index of \"timestamp\" and \"participant\"\n",
    "# daily_studentsFocused_df = daily_studentsFocused_df.set_index(['timestamp','participant'])\n",
    "\n",
    "# daily_studentsFocused_df = daily_studentsFocused_df.drop(columns=['daily_studentsFocused_timestamp'])"
   ]
  },
  {
   "cell_type": "code",
   "execution_count": null,
   "metadata": {},
   "outputs": [],
   "source": [
    "# device_df = device_df.set_index(['_id','createdAt', 'updatedAt'])\n",
    "# participant_df = participant_df.set_index(['_id','createdAt', 'updatedAt'])\n",
    "\n",
    "# #Probabbly I have to add 'createdAt', 'updatedAt' to feedback index as well"
   ]
  },
  {
   "cell_type": "code",
   "execution_count": null,
   "metadata": {},
   "outputs": [],
   "source": [
    "# device_participant_df = device_df.join(participant_df,how='outer')"
   ]
  },
  {
   "cell_type": "code",
   "execution_count": null,
   "metadata": {},
   "outputs": [],
   "source": []
  }
 ],
 "metadata": {
  "kernelspec": {
   "display_name": "Python 3.8.10 ('feedback_env': venv)",
   "language": "python",
   "name": "python3"
  },
  "language_info": {
   "codemirror_mode": {
    "name": "ipython",
    "version": 3
   },
   "file_extension": ".py",
   "mimetype": "text/x-python",
   "name": "python",
   "nbconvert_exporter": "python",
   "pygments_lexer": "ipython3",
   "version": "3.8.10"
  },
  "orig_nbformat": 4,
  "vscode": {
   "interpreter": {
    "hash": "463cb1ca5b70f2b4794c32c6d106e9df611106de8196d3c90f7d0ea7948598af"
   }
  }
 },
 "nbformat": 4,
 "nbformat_minor": 2
}
