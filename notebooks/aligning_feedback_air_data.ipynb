{
 "cells": [
  {
   "cell_type": "code",
   "execution_count": 3,
   "metadata": {},
   "outputs": [],
   "source": [
    "import pandas as pd\n",
    "from matplotlib import pyplot as plt\n",
    "import seaborn as sns\n",
    "import datetime\n",
    "import numpy as np"
   ]
  },
  {
   "cell_type": "markdown",
   "metadata": {},
   "source": [
    "### Loading Data"
   ]
  },
  {
   "cell_type": "code",
   "execution_count": 4,
   "metadata": {},
   "outputs": [],
   "source": [
    "feedback_df = pd.read_csv('../data/abschluss-daten/feedback.csv')\n",
    "device_df = pd.read_csv('../data/abschluss-daten/device.csv')\n",
    "participant_df = pd.read_csv('../data/abschluss-daten/participant.csv')"
   ]
  },
  {
   "cell_type": "code",
   "execution_count": 5,
   "metadata": {},
   "outputs": [],
   "source": [
    "def parse_timestamp(timestamp):\n",
    "    date_str = timestamp.split('T')[0]\n",
    "    time_str = timestamp.split('T')[1]\n",
    "\n",
    "    return datetime.datetime.fromisoformat(date_str + ' ' + time_str[:5])"
   ]
  },
  {
   "cell_type": "code",
   "execution_count": 6,
   "metadata": {},
   "outputs": [],
   "source": [
    "for column_name in feedback_df.columns:\n",
    "    if 'timestamp' in column_name or 'At' in column_name:\n",
    "        feedback_df[column_name] = feedback_df[column_name].dropna().apply(parse_timestamp)\n",
    "\n",
    "for column_name in device_df.columns:\n",
    "    if 'timestamp' in column_name or 'At' in column_name:\n",
    "        device_df[column_name] = device_df[column_name].dropna().apply(parse_timestamp)\n",
    "\n",
    "for column_name in participant_df.columns:\n",
    "    if 'timestamp' in column_name or 'At' in column_name:\n",
    "        participant_df[column_name] = participant_df[column_name].dropna().apply(parse_timestamp)\n"
   ]
  },
  {
   "cell_type": "code",
   "execution_count": 7,
   "metadata": {},
   "outputs": [],
   "source": [
    "def get_date_from_datetime(timestamp):\n",
    "    return timestamp.date()"
   ]
  },
  {
   "cell_type": "code",
   "execution_count": 8,
   "metadata": {},
   "outputs": [],
   "source": [
    "device_df['device'] = device_df['_id']\n",
    "device_df = device_df.set_index('device')\n",
    "device_df = device_df.drop(columns=['_id', 'authToken', 'createdAt', 'deviceId', 'imei', 'serialNumber', 'updatedAt'])"
   ]
  },
  {
   "cell_type": "code",
   "execution_count": 9,
   "metadata": {},
   "outputs": [],
   "source": [
    "feedback_room_df = feedback_df.set_index('device').join(device_df,how='outer')\n",
    "feedback_room_df = feedback_room_df.reset_index()"
   ]
  },
  {
   "cell_type": "code",
   "execution_count": 11,
   "metadata": {},
   "outputs": [],
   "source": [
    "feedback_room_df.to_csv('../data/abschluss-daten/feedback_room.csv')"
   ]
  }
 ],
 "metadata": {
  "kernelspec": {
   "display_name": "Python 3.8.10 ('feedback_env': venv)",
   "language": "python",
   "name": "python3"
  },
  "language_info": {
   "codemirror_mode": {
    "name": "ipython",
    "version": 3
   },
   "file_extension": ".py",
   "mimetype": "text/x-python",
   "name": "python",
   "nbconvert_exporter": "python",
   "pygments_lexer": "ipython3",
   "version": "3.8.10"
  },
  "orig_nbformat": 4,
  "vscode": {
   "interpreter": {
    "hash": "463cb1ca5b70f2b4794c32c6d106e9df611106de8196d3c90f7d0ea7948598af"
   }
  }
 },
 "nbformat": 4,
 "nbformat_minor": 2
}
