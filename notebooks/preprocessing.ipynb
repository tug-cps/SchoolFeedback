{
 "cells": [
  {
   "cell_type": "code",
   "execution_count": 97,
   "metadata": {},
   "outputs": [],
   "source": [
    "import pandas as pd\n",
    "from matplotlib import pyplot as plt\n",
    "import datetime"
   ]
  },
  {
   "cell_type": "code",
   "execution_count": 47,
   "metadata": {},
   "outputs": [],
   "source": [
    "feedback_df = pd.read_csv('../abschluss-daten/feedback.csv')\n",
    "device_df = pd.read_csv('../abschluss-daten/feedback.csv')\n",
    "participant_df = pd.read_csv('../abschluss-daten/participant.csv')"
   ]
  },
  {
   "cell_type": "code",
   "execution_count": 48,
   "metadata": {},
   "outputs": [],
   "source": [
    "def parse_timestamp(timestamp):\n",
    "    date_str = timestamp.split('T')[0]\n",
    "    time_str = timestamp.split('T')[1]\n",
    "\n",
    "    return datetime.datetime.fromisoformat(date_str + ' ' + time_str[:5])"
   ]
  },
  {
   "cell_type": "code",
   "execution_count": 49,
   "metadata": {},
   "outputs": [],
   "source": [
    "for column_name in feedback_df.columns:\n",
    "    if 'timestamp' in column_name or 'At' in column_name:\n",
    "        feedback_df[column_name] = feedback_df[column_name].dropna().apply(parse_timestamp)\n",
    "\n",
    "for column_name in device_df.columns:\n",
    "    if 'timestamp' in column_name or 'At' in column_name:\n",
    "        device_df[column_name] = device_df[column_name].dropna().apply(parse_timestamp)\n",
    "\n",
    "for column_name in participant_df.columns:\n",
    "    if 'timestamp' in column_name or 'At' in column_name:\n",
    "        participant_df[column_name] = participant_df[column_name].dropna().apply(parse_timestamp)\n"
   ]
  },
  {
   "cell_type": "code",
   "execution_count": 72,
   "metadata": {},
   "outputs": [
    {
     "data": {
      "text/plain": [
       "Index(['_id', 'action', 'createdAt', 'daily_additionalComment_value',\n",
       "       'daily_airDraft_timestamp', 'daily_airDraft_value',\n",
       "       'daily_ambientSounds_timestamp', 'daily_ambientSounds_value',\n",
       "       'daily_artificialLight_timestamp', 'daily_artificialLight_value',\n",
       "       'daily_dayLight_timestamp', 'daily_dayLight_value',\n",
       "       'daily_smell_timestamp', 'daily_smell_value',\n",
       "       'daily_studentsAdherence_timestamp', 'daily_studentsAdherence_value',\n",
       "       'daily_studentsFocused_timestamp', 'daily_studentsFocused_value',\n",
       "       'daily_studentsIrritated_timestamp', 'daily_studentsIrritated_value',\n",
       "       'daily_studentsMotivated_timestamp', 'daily_studentsMotivated_value',\n",
       "       'device', 'finishedAt', 'heartbeat', 'hourly_airQuality_timestamp',\n",
       "       'hourly_airQuality_value', 'hourly_humidity_timestamp',\n",
       "       'hourly_humidity_value', 'hourly_indoorClimate_timestamp',\n",
       "       'hourly_indoorClimate_value', 'hourly_temperature_timestamp',\n",
       "       'hourly_temperature_value', 'participant', 'startedAt', 'type',\n",
       "       'updatedAt'],\n",
       "      dtype='object')"
      ]
     },
     "execution_count": 72,
     "metadata": {},
     "output_type": "execute_result"
    }
   ],
   "source": [
    "feedback_df.columns"
   ]
  },
  {
   "cell_type": "code",
   "execution_count": 91,
   "metadata": {},
   "outputs": [],
   "source": [
    "daily_airDraft_df = feedback_df[['daily_airDraft_timestamp','daily_airDraft_value']].dropna()\n",
    "daily_ambientSounds_df = feedback_df[['daily_ambientSounds_timestamp','daily_ambientSounds_value']].dropna()\n",
    "daily_artificialLight_df = feedback_df[['daily_artificialLight_timestamp','daily_artificialLight_value']].dropna()\n",
    "daily_dayLight_df = feedback_df[['daily_dayLight_timestamp','daily_dayLight_value']].dropna()\n",
    "daily_smell_df = feedback_df[['daily_smell_timestamp','daily_smell_value']].dropna()\n",
    "daily_studentsAdherence_df = feedback_df[['daily_studentsAdherence_timestamp', 'daily_studentsAdherence_value']].dropna()\n",
    "daily_studentsFocused_df = feedback_df[['daily_studentsFocused_timestamp', 'daily_studentsFocused_value']].dropna()\n",
    "daily_studentsIrritated_df = feedback_df[['daily_studentsIrritated_timestamp', 'daily_studentsIrritated_value']].dropna()\n",
    "daily_studentsMotivated_df =feedback_df[['daily_studentsMotivated_timestamp', 'daily_studentsMotivated_value']].dropna()\n",
    "\n",
    "hourly_airQuality_df = feedback_df[['hourly_airQuality_timestamp', 'hourly_airQuality_value']].dropna()\n",
    "hourly_humidity_df = feedback_df[['hourly_humidity_timestamp', 'hourly_humidity_value']].dropna()\n",
    "hourly_indoorClimate_df = feedback_df[['hourly_indoorClimate_timestamp', 'hourly_indoorClimate_value']].dropna()\n",
    "hourly_temperature_df = feedback_df[['hourly_temperature_timestamp', 'hourly_temperature_value']].dropna()"
   ]
  },
  {
   "cell_type": "code",
   "execution_count": null,
   "metadata": {},
   "outputs": [],
   "source": []
  }
 ],
 "metadata": {
  "kernelspec": {
   "display_name": "Python 3.8.10 ('feedback_env': venv)",
   "language": "python",
   "name": "python3"
  },
  "language_info": {
   "codemirror_mode": {
    "name": "ipython",
    "version": 3
   },
   "file_extension": ".py",
   "mimetype": "text/x-python",
   "name": "python",
   "nbconvert_exporter": "python",
   "pygments_lexer": "ipython3",
   "version": "3.8.10"
  },
  "orig_nbformat": 4,
  "vscode": {
   "interpreter": {
    "hash": "463cb1ca5b70f2b4794c32c6d106e9df611106de8196d3c90f7d0ea7948598af"
   }
  }
 },
 "nbformat": 4,
 "nbformat_minor": 2
}
